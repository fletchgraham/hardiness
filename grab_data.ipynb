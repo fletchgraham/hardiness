{
 "metadata": {
  "language_info": {
   "codemirror_mode": {
    "name": "ipython",
    "version": 3
   },
   "file_extension": ".py",
   "mimetype": "text/x-python",
   "name": "python",
   "nbconvert_exporter": "python",
   "pygments_lexer": "ipython3",
   "version": "3.7.0-final"
  },
  "orig_nbformat": 2,
  "kernelspec": {
   "name": "Python 3.7.0 64-bit ('venv': venv)",
   "display_name": "Python 3.7.0 64-bit ('venv': venv)",
   "metadata": {
    "interpreter": {
     "hash": "9306e46a8af740a5dcb7b5a66dd0d6bc9c5f1366f18145b562be495fe3d9ded4"
    }
   }
  }
 },
 "nbformat": 4,
 "nbformat_minor": 2,
 "cells": [
  {
   "source": [
    "# Grab the data\n",
    "\n",
    "This notebook runs out to National Centers for Environmental Information and grabs the global summary of the year. It then filters it down to just the data we need to generate the contour plot in [this other notebook](hardiness.ipynb)."
   ],
   "cell_type": "markdown",
   "metadata": {}
  },
  {
   "cell_type": "code",
   "execution_count": 1,
   "metadata": {},
   "outputs": [],
   "source": [
    "from io import BytesIO\n",
    "import tarfile\n",
    "from urllib.request import urlopen\n",
    "import csv\n",
    "import pandas as pd\n",
    "import numpy as np\n",
    "\n",
    "url = 'https://www.ncei.noaa.gov/data/gsoy/archive/gsoy-latest.tar.gz'\n",
    "b = BytesIO(urlopen(url).read())\n"
   ]
  },
  {
   "cell_type": "code",
   "execution_count": 2,
   "metadata": {
    "tags": []
   },
   "outputs": [],
   "source": [
    "\n",
    "def extractor():\n",
    "    with tarfile.open(mode='r', fileobj=b) as archive:\n",
    "        for m in archive.getmembers():\n",
    "            if not m.name.startswith('US'):\n",
    "                continue\n",
    "\n",
    "            yield archive.extractfile(m)\n",
    "        \n",
    "\n",
    "df_main = pd.DataFrame(columns=['DATE', 'LATITUDE', 'LONGITUDE', 'EMNT'])\n",
    "\n",
    "gen = extractor()\n",
    "for g in gen:\n",
    "    df = pd.read_csv(g)\n",
    "    if not 'EMNT' in df.keys():\n",
    "        continue\n",
    "    filtered = df[['DATE', 'LATITUDE', 'LONGITUDE', 'EMNT']].loc[df['DATE'] >= 2014].dropna()\n",
    "    df_main = pd.concat([df_main, filtered])\n",
    "    "
   ]
  },
  {
   "cell_type": "code",
   "execution_count": 3,
   "metadata": {},
   "outputs": [
    {
     "output_type": "execute_result",
     "data": {
      "text/plain": [
       "(36254, 4)"
      ]
     },
     "metadata": {},
     "execution_count": 3
    }
   ],
   "source": [
    "df_main.shape"
   ]
  },
  {
   "cell_type": "code",
   "execution_count": 4,
   "metadata": {},
   "outputs": [
    {
     "output_type": "execute_result",
     "data": {
      "text/plain": [
       "    DATE  LATITUDE  LONGITUDE  EMNT\n",
       "41  2014   32.9452    -85.948 -15.6\n",
       "42  2015   32.9452    -85.948 -12.8\n",
       "43  2016   32.9452    -85.948  -6.7\n",
       "44  2017   32.9452    -85.948 -10.0\n",
       "45  2018   32.9452    -85.948 -12.2"
      ],
      "text/html": "<div>\n<style scoped>\n    .dataframe tbody tr th:only-of-type {\n        vertical-align: middle;\n    }\n\n    .dataframe tbody tr th {\n        vertical-align: top;\n    }\n\n    .dataframe thead th {\n        text-align: right;\n    }\n</style>\n<table border=\"1\" class=\"dataframe\">\n  <thead>\n    <tr style=\"text-align: right;\">\n      <th></th>\n      <th>DATE</th>\n      <th>LATITUDE</th>\n      <th>LONGITUDE</th>\n      <th>EMNT</th>\n    </tr>\n  </thead>\n  <tbody>\n    <tr>\n      <th>41</th>\n      <td>2014</td>\n      <td>32.9452</td>\n      <td>-85.948</td>\n      <td>-15.6</td>\n    </tr>\n    <tr>\n      <th>42</th>\n      <td>2015</td>\n      <td>32.9452</td>\n      <td>-85.948</td>\n      <td>-12.8</td>\n    </tr>\n    <tr>\n      <th>43</th>\n      <td>2016</td>\n      <td>32.9452</td>\n      <td>-85.948</td>\n      <td>-6.7</td>\n    </tr>\n    <tr>\n      <th>44</th>\n      <td>2017</td>\n      <td>32.9452</td>\n      <td>-85.948</td>\n      <td>-10.0</td>\n    </tr>\n    <tr>\n      <th>45</th>\n      <td>2018</td>\n      <td>32.9452</td>\n      <td>-85.948</td>\n      <td>-12.2</td>\n    </tr>\n  </tbody>\n</table>\n</div>"
     },
     "metadata": {},
     "execution_count": 4
    }
   ],
   "source": [
    "df_main.head()"
   ]
  },
  {
   "cell_type": "code",
   "execution_count": 5,
   "metadata": {},
   "outputs": [],
   "source": [
    "df_main.to_csv('gsoy.csv')"
   ]
  }
 ]
}