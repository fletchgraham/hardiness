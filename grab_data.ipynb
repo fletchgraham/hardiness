{
 "metadata": {
  "language_info": {
   "codemirror_mode": {
    "name": "ipython",
    "version": 3
   },
   "file_extension": ".py",
   "mimetype": "text/x-python",
   "name": "python",
   "nbconvert_exporter": "python",
   "pygments_lexer": "ipython3",
   "version": "3.7.0-final"
  },
  "orig_nbformat": 2,
  "kernelspec": {
   "name": "Python 3.7.0 64-bit ('venv': venv)",
   "display_name": "Python 3.7.0 64-bit ('venv': venv)",
   "metadata": {
    "interpreter": {
     "hash": "9306e46a8af740a5dcb7b5a66dd0d6bc9c5f1366f18145b562be495fe3d9ded4"
    }
   }
  }
 },
 "nbformat": 4,
 "nbformat_minor": 2,
 "cells": [
  {
   "source": [
    "# Grab the data\n",
    "\n",
    "This notebook runs out to National Centers for Environmental Information and grabs the global summary of the year. It then filters it down to just the data we need to generate the contour plot in [this other notebook](hardiness.ipynb)."
   ],
   "cell_type": "markdown",
   "metadata": {}
  },
  {
   "cell_type": "code",
   "execution_count": 1,
   "metadata": {},
   "outputs": [],
   "source": [
    "from io import BytesIO\n",
    "import tarfile\n",
    "from urllib.request import urlopen\n",
    "import csv\n",
    "import pandas as pd\n",
    "import numpy as np\n",
    "\n",
    "url = 'https://www.ncei.noaa.gov/data/gsoy/archive/gsoy-latest.tar.gz'\n",
    "b = BytesIO(urlopen(url).read())\n"
   ]
  },
  {
   "cell_type": "code",
   "execution_count": 2,
   "metadata": {
    "tags": []
   },
   "outputs": [],
   "source": [
    "\n",
    "def extractor():\n",
    "    with tarfile.open(mode='r', fileobj=b) as archive:\n",
    "        for m in archive.getmembers():\n",
    "            if not m.name.startswith('US'):\n",
    "                continue\n",
    "\n",
    "            yield archive.extractfile(m)\n",
    "        \n",
    "\n",
    "df_main = pd.DataFrame(columns=['DATE', 'LATITUDE', 'LONGITUDE', 'EMNT'])\n",
    "\n",
    "gen = extractor()\n",
    "for g in gen:\n",
    "    df = pd.read_csv(g)\n",
    "    if not 'EMNT' in df.keys():\n",
    "        continue\n",
    "    filtered = df[['DATE', 'LATITUDE', 'LONGITUDE', 'EMNT']].loc[df['DATE'] == 2019].dropna()\n",
    "    df_main = pd.concat([df_main, filtered])\n",
    "    "
   ]
  },
  {
   "cell_type": "code",
   "execution_count": 4,
   "metadata": {},
   "outputs": [
    {
     "output_type": "execute_result",
     "data": {
      "text/plain": [
       "(5874, 4)"
      ]
     },
     "metadata": {},
     "execution_count": 4
    }
   ],
   "source": [
    "df_main.shape"
   ]
  },
  {
   "cell_type": "code",
   "execution_count": 5,
   "metadata": {},
   "outputs": [
    {
     "output_type": "execute_result",
     "data": {
      "text/plain": [
       "    DATE  LATITUDE  LONGITUDE  EMNT\n",
       "46  2019  32.94520  -85.94800  -7.8\n",
       "51  2019  33.12720  -88.15500 -11.1\n",
       "15  2019  34.96285  -87.37195  -9.4\n",
       "45  2019  34.77520  -86.95080  -8.3\n",
       "56  2019  31.18200  -87.43900  -4.4"
      ],
      "text/html": "<div>\n<style scoped>\n    .dataframe tbody tr th:only-of-type {\n        vertical-align: middle;\n    }\n\n    .dataframe tbody tr th {\n        vertical-align: top;\n    }\n\n    .dataframe thead th {\n        text-align: right;\n    }\n</style>\n<table border=\"1\" class=\"dataframe\">\n  <thead>\n    <tr style=\"text-align: right;\">\n      <th></th>\n      <th>DATE</th>\n      <th>LATITUDE</th>\n      <th>LONGITUDE</th>\n      <th>EMNT</th>\n    </tr>\n  </thead>\n  <tbody>\n    <tr>\n      <th>46</th>\n      <td>2019</td>\n      <td>32.94520</td>\n      <td>-85.94800</td>\n      <td>-7.8</td>\n    </tr>\n    <tr>\n      <th>51</th>\n      <td>2019</td>\n      <td>33.12720</td>\n      <td>-88.15500</td>\n      <td>-11.1</td>\n    </tr>\n    <tr>\n      <th>15</th>\n      <td>2019</td>\n      <td>34.96285</td>\n      <td>-87.37195</td>\n      <td>-9.4</td>\n    </tr>\n    <tr>\n      <th>45</th>\n      <td>2019</td>\n      <td>34.77520</td>\n      <td>-86.95080</td>\n      <td>-8.3</td>\n    </tr>\n    <tr>\n      <th>56</th>\n      <td>2019</td>\n      <td>31.18200</td>\n      <td>-87.43900</td>\n      <td>-4.4</td>\n    </tr>\n  </tbody>\n</table>\n</div>"
     },
     "metadata": {},
     "execution_count": 5
    }
   ],
   "source": [
    "df_main.head()"
   ]
  },
  {
   "cell_type": "code",
   "execution_count": 6,
   "metadata": {},
   "outputs": [],
   "source": [
    "df_main.to_csv('gsoy_filtered.csv')"
   ]
  }
 ]
}